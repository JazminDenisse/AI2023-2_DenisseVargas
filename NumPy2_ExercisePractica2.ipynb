{
  "nbformat": 4,
  "nbformat_minor": 0,
  "metadata": {
    "colab": {
      "provenance": [],
      "authorship_tag": "ABX9TyNlA7bmLG7zPq91DF5sWUdS",
      "include_colab_link": true
    },
    "kernelspec": {
      "name": "python3",
      "display_name": "Python 3"
    },
    "language_info": {
      "name": "python"
    }
  },
  "cells": [
    {
      "cell_type": "markdown",
      "metadata": {
        "id": "view-in-github",
        "colab_type": "text"
      },
      "source": [
        "<a href=\"https://colab.research.google.com/github/JazminDenisse/AI2023-2_DenisseVargas/blob/main/NumPy2_ExercisePractica2.ipynb\" target=\"_parent\"><img src=\"https://colab.research.google.com/assets/colab-badge.svg\" alt=\"Open In Colab\"/></a>"
      ]
    },
    {
      "cell_type": "code",
      "execution_count": 12,
      "metadata": {
        "colab": {
          "base_uri": "https://localhost:8080/"
        },
        "id": "eIKTSruwJLrL",
        "outputId": "39bb90c2-dcb8-4b99-cde6-b7cb7a80ce36"
      },
      "outputs": [
        {
          "output_type": "stream",
          "name": "stdout",
          "text": [
            "[1 2 4 5]\n",
            "(4,)\n",
            "---------\n",
            "(2, 4)\n",
            "[[1 2 3 4]\n",
            " [1 2 3 4]]\n",
            "<class 'numpy.ndarray'>\n",
            "-----------------------\n",
            "[[0. 0. 0. 0.]\n",
            " [0. 0. 0. 0.]\n",
            " [0. 0. 0. 0.]\n",
            " [0. 0. 0. 0.]]\n",
            "---------------\n",
            "[[5 5 5 5]\n",
            " [5 5 5 5]\n",
            " [5 5 5 5]\n",
            " [5 5 5 5]]\n",
            "-----------\n",
            "[[1. 0. 0. 0.]\n",
            " [0. 1. 0. 0.]\n",
            " [0. 0. 1. 0.]\n",
            " [0. 0. 0. 1.]]\n",
            "---------------\n",
            "[[1. 1. 1. 1.]\n",
            " [1. 1. 1. 1.]\n",
            " [1. 1. 1. 1.]\n",
            " [1. 1. 1. 1.]]\n",
            "---------------\n"
          ]
        }
      ],
      "source": [
        "import numpy as np\n",
        "\n",
        "aux=np.array([1,2,4,5])\n",
        "print(aux)\n",
        "print(aux.shape)\n",
        "print('---------')\n",
        "\n",
        "aux=np.array([[1,2,3,4],[1,2,3,4]])\n",
        "print(aux.shape)\n",
        "print(aux)\n",
        "print(type(aux))\n",
        "print('-----------------------')\n",
        "\n",
        "tmp=np.zeros((4,4))\n",
        "print(tmp)\n",
        "print('---------------')\n",
        "\n",
        "tmp=np.full((4,4),5)\n",
        "print(tmp)\n",
        "print('-----------')\n",
        "\n",
        "tmp=np.eye(4,4)\n",
        "print(tmp)\n",
        "print('---------------')\n",
        "\n",
        "tmp=np.ones((4,4))\n",
        "print(tmp)\n",
        "print('---------------')"
      ]
    },
    {
      "cell_type": "markdown",
      "source": [
        "**Matriz** **3x3**"
      ],
      "metadata": {
        "id": "6w-KBOmESke7"
      }
    },
    {
      "cell_type": "code",
      "source": [
        "tmp=np.random.random((3,3))\n",
        "print(tmp)\n",
        "print('------------------------------------')\n",
        "\n",
        "tmp=10*np.random.random((4,4))\n",
        "print(tmp)\n",
        "print('-----------------------------------------------')"
      ],
      "metadata": {
        "colab": {
          "base_uri": "https://localhost:8080/"
        },
        "id": "7jhxxziyQRvq",
        "outputId": "74021e3f-57e2-4ce2-b897-1294fefd3296"
      },
      "execution_count": 13,
      "outputs": [
        {
          "output_type": "stream",
          "name": "stdout",
          "text": [
            "[[0.38397416 0.45062069 0.52480177]\n",
            " [0.52609252 0.19304163 0.4415892 ]\n",
            " [0.48146876 0.4536683  0.31365229]]\n",
            "------------------------------------\n",
            "[[5.48513019e-01 6.96127477e+00 6.96797756e+00 4.91572597e-01]\n",
            " [9.60710922e+00 8.54517750e+00 2.59489348e+00 2.99738255e+00]\n",
            " [6.09129656e+00 8.71124228e+00 9.01453386e+00 7.15587796e+00]\n",
            " [5.07816557e+00 2.02891221e+00 5.82154871e+00 8.39363209e-03]]\n",
            "-----------------------------------------------\n"
          ]
        }
      ]
    },
    {
      "cell_type": "code",
      "source": [
        "print(tmp[:2,:2])\n",
        "print('-------------------------')\n",
        "print(tmp[2:4,2:4])\n",
        "print('-------------------------')"
      ],
      "metadata": {
        "colab": {
          "base_uri": "https://localhost:8080/"
        },
        "id": "u6wvKQ5pS11S",
        "outputId": "d0ace14f-7aac-497c-a011-696e6d59cddf"
      },
      "execution_count": 14,
      "outputs": [
        {
          "output_type": "stream",
          "name": "stdout",
          "text": [
            "[[0.54851302 6.96127477]\n",
            " [9.60710922 8.5451775 ]]\n",
            "-------------------------\n",
            "[[9.01453386e+00 7.15587796e+00]\n",
            " [5.82154871e+00 8.39363209e-03]]\n",
            "-------------------------\n"
          ]
        }
      ]
    },
    {
      "cell_type": "markdown",
      "source": [
        "**Fila 0 y Fila 1**"
      ],
      "metadata": {
        "id": "YuSFyRwPTIsg"
      }
    },
    {
      "cell_type": "code",
      "source": [
        "print(tmp[1,1])\n",
        "print('-----------------')\n",
        "print(tmp[2,2])\n",
        "print('-----------------')"
      ],
      "metadata": {
        "colab": {
          "base_uri": "https://localhost:8080/"
        },
        "id": "GVKsldk-TQVC",
        "outputId": "70debc07-a9a6-40ce-ca36-fa734f5ef499"
      },
      "execution_count": 15,
      "outputs": [
        {
          "output_type": "stream",
          "name": "stdout",
          "text": [
            "8.545177503592999\n",
            "-----------------\n",
            "9.014533864072204\n",
            "-----------------\n"
          ]
        }
      ]
    },
    {
      "cell_type": "markdown",
      "source": [
        "**Valor del medio**"
      ],
      "metadata": {
        "id": "_oRAIAJoTZBy"
      }
    },
    {
      "cell_type": "markdown",
      "source": [
        "**Filtrar datos**"
      ],
      "metadata": {
        "id": "gX-0n9muUeLa"
      }
    },
    {
      "cell_type": "code",
      "source": [
        "tmp=10*np.random.random((4,4))\n",
        "print(tmp)"
      ],
      "metadata": {
        "colab": {
          "base_uri": "https://localhost:8080/"
        },
        "id": "cFzh-wN2UXra",
        "outputId": "618909fd-0596-4a26-ab8c-26af1ae419a8"
      },
      "execution_count": 16,
      "outputs": [
        {
          "output_type": "stream",
          "name": "stdout",
          "text": [
            "[[6.33376754 2.37262864 4.14988159 9.49185824]\n",
            " [8.1941148  0.66152382 5.66630502 0.12394806]\n",
            " [2.29515942 1.8980852  1.55144554 9.11164025]\n",
            " [8.85829257 9.93231222 6.69904084 0.26547399]]\n"
          ]
        }
      ]
    },
    {
      "cell_type": "markdown",
      "source": [
        "**Filtrar datos mayor a 5**"
      ],
      "metadata": {
        "id": "14cJIYwnUzES"
      }
    },
    {
      "cell_type": "code",
      "source": [
        "mask=tmp>5\n",
        "print(mask)\n",
        "print('---------------------------')\n",
        "print(tmp[mask])\n",
        "print('----------------------------------')"
      ],
      "metadata": {
        "colab": {
          "base_uri": "https://localhost:8080/"
        },
        "id": "f9jwZbv9UbYC",
        "outputId": "a99b5918-ab04-4a37-c567-155e3973bcf0"
      },
      "execution_count": 17,
      "outputs": [
        {
          "output_type": "stream",
          "name": "stdout",
          "text": [
            "[[ True False False  True]\n",
            " [ True False  True False]\n",
            " [False False False  True]\n",
            " [ True  True  True False]]\n",
            "---------------------------\n",
            "[6.33376754 9.49185824 8.1941148  5.66630502 9.11164025 8.85829257\n",
            " 9.93231222 6.69904084]\n",
            "----------------------------------\n"
          ]
        }
      ]
    },
    {
      "cell_type": "markdown",
      "source": [
        "**Valores que dejen pasar de 2 a 4**"
      ],
      "metadata": {
        "id": "QtdM5_94U38y"
      }
    },
    {
      "cell_type": "code",
      "source": [
        "mask = (tmp >=2) & (tmp<=4)\n",
        "print(tmp[mask])"
      ],
      "metadata": {
        "colab": {
          "base_uri": "https://localhost:8080/"
        },
        "id": "MpDHkCq1U9cK",
        "outputId": "3fbbc967-6d6c-4eab-8aad-001e250498d2"
      },
      "execution_count": 18,
      "outputs": [
        {
          "output_type": "stream",
          "name": "stdout",
          "text": [
            "[2.37262864 2.29515942]\n"
          ]
        }
      ]
    },
    {
      "cell_type": "markdown",
      "source": [
        "**Otro ejercico de Filtro de valores enteros y aleatorerios y filtrar los numeros pares**"
      ],
      "metadata": {
        "id": "wB0sWcVCWjDq"
      }
    },
    {
      "cell_type": "code",
      "source": [
        "import numpy as np\n",
        "integer_array =np.random.randint(0,10,(4,4))\n",
        "print(integer_array)"
      ],
      "metadata": {
        "colab": {
          "base_uri": "https://localhost:8080/"
        },
        "id": "q3hWbbIMWtf6",
        "outputId": "ebf46d90-214a-44e2-a607-c800eaa58ea4"
      },
      "execution_count": 19,
      "outputs": [
        {
          "output_type": "stream",
          "name": "stdout",
          "text": [
            "[[8 2 8 1]\n",
            " [4 0 1 4]\n",
            " [6 0 1 8]\n",
            " [9 3 3 1]]\n"
          ]
        }
      ]
    },
    {
      "cell_type": "code",
      "source": [
        "tmp = np.random.randint(0, 11, size=(4, 4))\n",
        "print(tmp)\n",
        "print('-------------------------------')\n",
        "mask = np.mod(tmp, 2) == 0\n",
        "print(tmp[mask])\n"
      ],
      "metadata": {
        "colab": {
          "base_uri": "https://localhost:8080/"
        },
        "id": "RtR6TmE_WoCP",
        "outputId": "fca061a4-7e0e-485c-f7be-212c7161140a"
      },
      "execution_count": 25,
      "outputs": [
        {
          "output_type": "stream",
          "name": "stdout",
          "text": [
            "[[3 8 3 2]\n",
            " [7 9 1 2]\n",
            " [6 0 5 9]\n",
            " [7 5 9 4]]\n",
            "-------------------------------\n",
            "[8 2 2 6 0 4]\n"
          ]
        }
      ]
    }
  ]
}