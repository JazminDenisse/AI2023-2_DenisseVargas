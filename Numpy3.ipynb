{
  "nbformat": 4,
  "nbformat_minor": 0,
  "metadata": {
    "colab": {
      "provenance": [],
      "authorship_tag": "ABX9TyMbg/p9+zhia79rFGyVKSMQ",
      "include_colab_link": true
    },
    "kernelspec": {
      "name": "python3",
      "display_name": "Python 3"
    },
    "language_info": {
      "name": "python"
    }
  },
  "cells": [
    {
      "cell_type": "markdown",
      "metadata": {
        "id": "view-in-github",
        "colab_type": "text"
      },
      "source": [
        "<a href=\"https://colab.research.google.com/github/JazminDenisse/AI2023-2_DenisseVargas/blob/main/Numpy3.ipynb\" target=\"_parent\"><img src=\"https://colab.research.google.com/assets/colab-badge.svg\" alt=\"Open In Colab\"/></a>"
      ]
    },
    {
      "cell_type": "code",
      "execution_count": 3,
      "metadata": {
        "colab": {
          "base_uri": "https://localhost:8080/"
        },
        "id": "riI7DBix_0uI",
        "outputId": "ab0730a5-3c1c-4bd6-98bb-a7ccead67f87"
      },
      "outputs": [
        {
          "output_type": "stream",
          "name": "stdout",
          "text": [
            "[[ 5  6  7  6]\n",
            " [10  1  7  9]\n",
            " [ 6  4  3  3]]\n",
            "[[ 9  9  5  1]\n",
            " [ 3  5  1 10]\n",
            " [ 6  8 10  4]]\n",
            "(3, 4)\n",
            "(3, 4)\n",
            "---------------\n",
            "Adding numbers\n",
            "[[14 15 12  7]\n",
            " [13  6  8 19]\n",
            " [12 12 13  7]]\n",
            "Substracting numbers\n",
            "[[-4 -3  2  5]\n",
            " [ 7 -4  6 -1]\n",
            " [ 0 -4 -7 -1]]\n",
            "Multiplication numbers\n",
            "[[45 54 35  6]\n",
            " [30  5  7 90]\n",
            " [36 32 30 12]]\n",
            "Add\n",
            "[[14 15 12  7]\n",
            " [13  6  8 19]\n",
            " [12 12 13  7]]\n",
            "Substract\n",
            "[[45 54 35  6]\n",
            " [30  5  7 90]\n",
            " [36 32 30 12]]\n",
            "Multiply\n",
            "[[-4 -3  2  5]\n",
            " [ 7 -4  6 -1]\n",
            " [ 0 -4 -7 -1]]\n",
            "Divide\n",
            "[[0.55555556 0.66666667 1.4        6.        ]\n",
            " [3.33333333 0.2        7.         0.9       ]\n",
            " [1.         0.5        0.3        0.75      ]]\n"
          ]
        }
      ],
      "source": [
        "import numpy as np\n",
        "\n",
        "#create an array with random inteher values between 1 and 10\n",
        "a = np.random.randint(1, 11, size=(3,4))\n",
        "b = np.random.randint(1, 11, size=(3,4))\n",
        "print(a)\n",
        "print(b)\n",
        "print(a.shape)\n",
        "print(b.shape)\n",
        "print('Adding numbers')\n",
        "#plus\n",
        "print(a+b)\n",
        "print('Substracting numbers')\n",
        "#minus\n",
        "print(a-b)\n",
        "print('Multiplication numbers')\n",
        "#times\n",
        "print(a*b)\n",
        "\n",
        "print('Add')\n",
        "print(np.add(a,b))\n",
        "print('Substract')\n",
        "print(np.multiply(a,b))\n",
        "print('Multiply')\n",
        "print(np.subtract(a,b))\n",
        "print('Divide')\n",
        "print(np.divide(a,b))"
      ]
    },
    {
      "cell_type": "code",
      "source": [
        "m1 = np.random.randint(1, 11, size=(3,4))\n",
        "m2 = np.random.randint(1, 11, size=(4,8))\n",
        "print('Matriz 1')\n",
        "print(m1)\n",
        "print(m1.shape)\n",
        "print('Matriz 2')\n",
        "print(m2)\n",
        "print(m2.shape)\n",
        "print('---------------------------')\n",
        "print('Forma 1')\n",
        "print(np.dot(m1,m2))\n",
        "print('Forma 2')\n",
        "print(m1.dot(m2))\n",
        "print(np.dot(m1,m2).shape)"
      ],
      "metadata": {
        "colab": {
          "base_uri": "https://localhost:8080/"
        },
        "id": "kaPY1618Dgno",
        "outputId": "354c9865-6317-4603-b7ad-c296e4dabc74"
      },
      "execution_count": 8,
      "outputs": [
        {
          "output_type": "stream",
          "name": "stdout",
          "text": [
            "Matriz 1\n",
            "[[ 5  4  7  2]\n",
            " [ 6 10  7  5]\n",
            " [ 7  1 10  9]]\n",
            "(3, 4)\n",
            "Matriz 2\n",
            "[[ 9  2  8  6  1  4  3  7]\n",
            " [ 1  7  5  8 10  5  1  8]\n",
            " [ 9  6  5  7  5  5  1 10]\n",
            " [ 1  4  4  2  7  3  4  7]]\n",
            "(4, 8)\n",
            "---------------------------\n",
            "Forma 1\n",
            "[[114  88 103 115  94  81  34 151]\n",
            " [132 144 153 175 176 124  55 227]\n",
            " [163 117 147 138 130 110  68 220]]\n",
            "Forma 2\n",
            "[[114  88 103 115  94  81  34 151]\n",
            " [132 144 153 175 176 124  55 227]\n",
            " [163 117 147 138 130 110  68 220]]\n",
            "(3, 8)\n"
          ]
        }
      ]
    },
    {
      "cell_type": "code",
      "source": [
        "a = np.random.randint(1, 11, size=(2,2))\n",
        "print(a.shape)\n",
        "print(type(a))\n",
        "print(a)\n",
        "print(a.T)"
      ],
      "metadata": {
        "colab": {
          "base_uri": "https://localhost:8080/"
        },
        "id": "DckGqL9iGBMf",
        "outputId": "6b6d4793-0153-456a-afc5-46461ac449c3"
      },
      "execution_count": 9,
      "outputs": [
        {
          "output_type": "stream",
          "name": "stdout",
          "text": [
            "(2, 2)\n",
            "<class 'numpy.ndarray'>\n",
            "[[2 1]\n",
            " [3 7]]\n",
            "[[2 3]\n",
            " [1 7]]\n"
          ]
        }
      ]
    },
    {
      "cell_type": "code",
      "source": [
        "#broadcast\n",
        "x = np.random.randint(1, 11, size=(4,3))\n",
        "y = np.array([1,0,2])\n",
        "\n",
        "print(x.shape)\n",
        "print(y.shape)\n",
        "\n",
        "z=np.empty_like(x)\n",
        "print('-----------')\n",
        "print(x)\n",
        "print('-----------')\n",
        "print(y)\n",
        "print(z.shape)\n",
        "print('-----------')\n",
        "print(z)"
      ],
      "metadata": {
        "colab": {
          "base_uri": "https://localhost:8080/"
        },
        "id": "LApVnDf4HfCf",
        "outputId": "2f81bfe0-749d-4d43-9f30-21e7e692de62"
      },
      "execution_count": 16,
      "outputs": [
        {
          "output_type": "stream",
          "name": "stdout",
          "text": [
            "(4, 3)\n",
            "(3,)\n",
            "-----------\n",
            "[[6 2 8]\n",
            " [3 9 1]\n",
            " [6 4 8]\n",
            " [8 7 2]]\n",
            "-----------\n",
            "[1 0 2]\n",
            "(4, 3)\n",
            "-----------\n",
            "[[7 5 7]\n",
            " [4 9 5]\n",
            " [8 6 4]\n",
            " [5 5 8]]\n"
          ]
        }
      ]
    },
    {
      "cell_type": "code",
      "source": [
        "for i in range(4):\n",
        "  z[i,:]=x[i,:]+y\n",
        "print(z)"
      ],
      "metadata": {
        "colab": {
          "base_uri": "https://localhost:8080/"
        },
        "id": "qfC7iVmhI7cp",
        "outputId": "4187c967-3102-429c-ac15-110e92ae2624"
      },
      "execution_count": 17,
      "outputs": [
        {
          "output_type": "stream",
          "name": "stdout",
          "text": [
            "[[ 7  2 10]\n",
            " [ 4  9  3]\n",
            " [ 7  4 10]\n",
            " [ 9  7  4]]\n"
          ]
        }
      ]
    },
    {
      "cell_type": "code",
      "source": [
        "z=x+y\n",
        "print(z)"
      ],
      "metadata": {
        "colab": {
          "base_uri": "https://localhost:8080/"
        },
        "id": "-PaRdHI4JxKK",
        "outputId": "5460f508-b5e7-43ce-8235-89d0a38bda2e"
      },
      "execution_count": 18,
      "outputs": [
        {
          "output_type": "stream",
          "name": "stdout",
          "text": [
            "[[ 7  2 10]\n",
            " [ 4  9  3]\n",
            " [ 7  4 10]\n",
            " [ 9  7  4]]\n"
          ]
        }
      ]
    },
    {
      "cell_type": "code",
      "source": [
        "#para comentar varias lineas de codigo se usa triple comillas simples \"\"\" \"\"\"\n",
        "\n",
        "a=np.array([1,2,3])\n",
        "print(a)\n",
        "print('---------------')\n",
        "\n",
        "b = np.full((6,3),[a])\n",
        "print(b)\n",
        "print('---------------')\n",
        "\n",
        "c= np.tile(a,(6,1))\n",
        "print(c)"
      ],
      "metadata": {
        "colab": {
          "base_uri": "https://localhost:8080/"
        },
        "id": "lNjdQJmtJ2rB",
        "outputId": "d00a2080-aac3-420c-8bdd-1b49b2048524"
      },
      "execution_count": 19,
      "outputs": [
        {
          "output_type": "stream",
          "name": "stdout",
          "text": [
            "[1 2 3]\n",
            "---------------\n",
            "[[1 2 3]\n",
            " [1 2 3]\n",
            " [1 2 3]\n",
            " [1 2 3]\n",
            " [1 2 3]\n",
            " [1 2 3]]\n",
            "---------------\n",
            "[[1 2 3]\n",
            " [1 2 3]\n",
            " [1 2 3]\n",
            " [1 2 3]\n",
            " [1 2 3]\n",
            " [1 2 3]]\n"
          ]
        }
      ]
    },
    {
      "cell_type": "code",
      "source": [
        "m1 = np.random.randint(0, 10, size=(6,6))\n",
        "print(m1)\n",
        "aux=np.mean(m1)\n",
        "print(aux)\n",
        "\n",
        "np.mean(m1, axis=1) #promedio por filas\n",
        "np.mean(m1, axis=0) #promedio por filas\n",
        "\n",
        "print('Promedio por filas')\n",
        "print(np.mean(m1, axis=1))\n",
        "print('Promedio por columnas')\n",
        "print(np.mean(m1, axis=0))"
      ],
      "metadata": {
        "colab": {
          "base_uri": "https://localhost:8080/"
        },
        "id": "P2v7v-QWLqgR",
        "outputId": "14f079e0-bc3a-4758-8315-fda7112190c3"
      },
      "execution_count": 22,
      "outputs": [
        {
          "output_type": "stream",
          "name": "stdout",
          "text": [
            "[[9 2 8 6 8 4]\n",
            " [7 1 0 0 4 0]\n",
            " [9 7 1 2 0 6]\n",
            " [9 3 5 5 4 8]\n",
            " [2 7 7 2 7 9]\n",
            " [9 4 4 0 4 2]]\n",
            "4.583333333333333\n",
            "Promedio por filas\n",
            "[6.16666667 2.         4.16666667 5.66666667 5.66666667 3.83333333]\n",
            "Promedio por columnas\n",
            "[7.5        4.         4.16666667 2.5        4.5        4.83333333]\n"
          ]
        }
      ]
    }
  ]
}