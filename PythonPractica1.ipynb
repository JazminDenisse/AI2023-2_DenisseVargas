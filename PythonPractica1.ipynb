{
  "nbformat": 4,
  "nbformat_minor": 0,
  "metadata": {
    "colab": {
      "provenance": [],
      "authorship_tag": "ABX9TyONEX7EwBJ2YzFvy2kEtJzA",
      "include_colab_link": true
    },
    "kernelspec": {
      "name": "python3",
      "display_name": "Python 3"
    },
    "language_info": {
      "name": "python"
    }
  },
  "cells": [
    {
      "cell_type": "markdown",
      "metadata": {
        "id": "view-in-github",
        "colab_type": "text"
      },
      "source": [
        "<a href=\"https://colab.research.google.com/github/JazminDenisse/AI2023-2_DenisseVargas/blob/main/PythonPractica1.ipynb\" target=\"_parent\"><img src=\"https://colab.research.google.com/assets/colab-badge.svg\" alt=\"Open In Colab\"/></a>"
      ]
    },
    {
      "cell_type": "code",
      "source": [
        "!python --version"
      ],
      "metadata": {
        "colab": {
          "base_uri": "https://localhost:8080/"
        },
        "id": "8NNkU3jhRrTQ",
        "outputId": "37ba4d83-b3df-46e2-c568-4b3f609fb382"
      },
      "execution_count": 1,
      "outputs": [
        {
          "output_type": "stream",
          "name": "stdout",
          "text": [
            "Python 3.10.12\n"
          ]
        }
      ]
    },
    {
      "cell_type": "code",
      "source": [
        "myVariable_1=4\n",
        "myVariable_2=6\n",
        "\n",
        "print(myVariable_1+myVariable_2)\n",
        "print(myVariable_1-myVariable_2)\n",
        "print(myVariable_1*myVariable_2)\n",
        "print(myVariable_1/myVariable_2)\n",
        "print(myVariable_1**myVariable_2)"
      ],
      "metadata": {
        "colab": {
          "base_uri": "https://localhost:8080/"
        },
        "id": "itpxoKlNSBcf",
        "outputId": "b67d68c8-5fa0-43b8-b386-3d0c418bc921"
      },
      "execution_count": null,
      "outputs": [
        {
          "output_type": "stream",
          "name": "stdout",
          "text": [
            "10\n",
            "-2\n",
            "24\n",
            "0.6666666666666666\n",
            "4096\n"
          ]
        }
      ]
    },
    {
      "cell_type": "code",
      "source": [
        "aux1=True\n",
        "aux2=False\n",
        "\n",
        "print(aux1 and aux2)\n",
        "print (aux1 or aux2)\n",
        "print(not aux1)"
      ],
      "metadata": {
        "colab": {
          "base_uri": "https://localhost:8080/"
        },
        "id": "6Ti01zGNTfk3",
        "outputId": "0fee003a-7101-48b7-e35a-a21d8c9429ce"
      },
      "execution_count": null,
      "outputs": [
        {
          "output_type": "stream",
          "name": "stdout",
          "text": [
            "False\n",
            "True\n",
            "False\n"
          ]
        }
      ]
    },
    {
      "cell_type": "code",
      "source": [
        "presentar = \"My name is\"\n",
        "nombre = \"Denisse\"\n",
        "edad = \"and I'm 3_ years old\"\n",
        "print(presentar.lower() , nombre , edad.upper())"
      ],
      "metadata": {
        "colab": {
          "base_uri": "https://localhost:8080/"
        },
        "id": "TjyDNovHOYik",
        "outputId": "65a94790-1e23-40f8-ae18-28bab9ea63cf"
      },
      "execution_count": 4,
      "outputs": [
        {
          "output_type": "stream",
          "name": "stdout",
          "text": [
            "my name is Denisse AND I'M 3_ YEARS OLD\n"
          ]
        }
      ]
    },
    {
      "cell_type": "code",
      "source": [
        "myNameIs='Denisse Vargas'\n",
        "print(myNameIs)\n",
        "\n",
        "print(myNameIs.upper())\n",
        "print(myNameIs.lower())"
      ],
      "metadata": {
        "colab": {
          "base_uri": "https://localhost:8080/"
        },
        "id": "AmRw21bbT7zw",
        "outputId": "a20d3a8f-e82f-494b-adf2-ea011287af5c"
      },
      "execution_count": null,
      "outputs": [
        {
          "output_type": "stream",
          "name": "stdout",
          "text": [
            "Denisse Vargas\n",
            "DENISSE VARGAS\n",
            "denisse vargas\n"
          ]
        }
      ]
    },
    {
      "cell_type": "code",
      "source": [
        "tmp='denisse; jazmin; juan'\n",
        "print(tmp)\n",
        "print(tmp.split(';'))"
      ],
      "metadata": {
        "colab": {
          "base_uri": "https://localhost:8080/"
        },
        "id": "9scmotDnVIxo",
        "outputId": "f2483222-12e5-4707-b7aa-5a4e7ed2f15c"
      },
      "execution_count": null,
      "outputs": [
        {
          "output_type": "stream",
          "name": "stdout",
          "text": [
            "denisse; jazmin; juan\n",
            "['denisse', ' jazmin', ' juan']\n"
          ]
        }
      ]
    },
    {
      "cell_type": "code",
      "source": [
        "from os import remove\n",
        "from pickle import APPEND\n",
        "listaUltiles=['note','pen','pencil','eraser','ruler']\n",
        "print(listaUltiles)\n",
        "listaUltiles.append('computer')\n",
        "print(listaUltiles)\n",
        "#Así se comenta lineas de codigo en python\n",
        "#listaUtiles.pop(1)\n",
        "del listaUltiles[1]\n",
        "print(listaUltiles)"
      ],
      "metadata": {
        "colab": {
          "base_uri": "https://localhost:8080/"
        },
        "id": "i-KzB2v-Q1lE",
        "outputId": "a249941a-bf0c-49f9-dd39-2337f05b799b"
      },
      "execution_count": 5,
      "outputs": [
        {
          "output_type": "stream",
          "name": "stdout",
          "text": [
            "['note', 'pen', 'pencil', 'eraser', 'ruler']\n",
            "['note', 'pen', 'pencil', 'eraser', 'ruler', 'computer']\n",
            "['note', 'pencil', 'eraser', 'ruler', 'computer']\n"
          ]
        }
      ]
    },
    {
      "cell_type": "code",
      "source": [],
      "metadata": {
        "id": "YlS54tyGQ1j5"
      },
      "execution_count": null,
      "outputs": []
    },
    {
      "cell_type": "code",
      "source": [
        "scholarList=['notebook','pen','ruler','eraser','pencil']\n",
        "print(scholarList)\n",
        "scholarList.append('computer')\n",
        "print(scholarList)\n",
        "#print(scholarList[3])\n",
        "#scholarList.pop(3)\n",
        "del scholarList[3]\n",
        "print(scholarList)"
      ],
      "metadata": {
        "colab": {
          "base_uri": "https://localhost:8080/"
        },
        "id": "wbrTcGl3Vkke",
        "outputId": "1a80c863-939b-409f-f183-702f24a5beb5"
      },
      "execution_count": null,
      "outputs": [
        {
          "output_type": "stream",
          "name": "stdout",
          "text": [
            "['notebook', 'pen', 'ruler', 'eraser', 'pencil']\n",
            "['notebook', 'pen', 'ruler', 'eraser', 'pencil', 'computer']\n",
            "['notebook', 'pen', 'ruler', 'pencil', 'computer']\n"
          ]
        }
      ]
    },
    {
      "cell_type": "code",
      "source": [
        "myList=list(range(15))\n",
        "print(myList)\n",
        "print(myList[4:11])\n",
        "print(myList[-3])\n",
        "print(myList[10:5])"
      ],
      "metadata": {
        "colab": {
          "base_uri": "https://localhost:8080/"
        },
        "id": "0IXvbPqeW4Kf",
        "outputId": "f514961d-cd7d-4137-c9c7-d30360dcd534"
      },
      "execution_count": 6,
      "outputs": [
        {
          "output_type": "stream",
          "name": "stdout",
          "text": [
            "[0, 1, 2, 3, 4, 5, 6, 7, 8, 9, 10, 11, 12, 13, 14]\n",
            "[4, 5, 6, 7, 8, 9, 10]\n",
            "12\n",
            "[]\n"
          ]
        }
      ]
    },
    {
      "cell_type": "code",
      "source": [],
      "metadata": {
        "id": "kerz8WwqGl7q"
      },
      "execution_count": null,
      "outputs": []
    }
  ]
}