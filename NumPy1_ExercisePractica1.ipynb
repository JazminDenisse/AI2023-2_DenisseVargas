{
  "nbformat": 4,
  "nbformat_minor": 0,
  "metadata": {
    "colab": {
      "provenance": [],
      "authorship_tag": "ABX9TyNG4xUQdi/1IPc8fsJylV0Y",
      "include_colab_link": true
    },
    "kernelspec": {
      "name": "python3",
      "display_name": "Python 3"
    },
    "language_info": {
      "name": "python"
    }
  },
  "cells": [
    {
      "cell_type": "markdown",
      "metadata": {
        "id": "view-in-github",
        "colab_type": "text"
      },
      "source": [
        "<a href=\"https://colab.research.google.com/github/JazminDenisse/AI2023-2_DenisseVargas/blob/main/NumPy1_ExercisePractica1.ipynb\" target=\"_parent\"><img src=\"https://colab.research.google.com/assets/colab-badge.svg\" alt=\"Open In Colab\"/></a>"
      ]
    },
    {
      "cell_type": "code",
      "execution_count": null,
      "metadata": {
        "colab": {
          "base_uri": "https://localhost:8080/"
        },
        "id": "eIKTSruwJLrL",
        "outputId": "e4fe3476-cd7a-44ff-a34f-2a35aa5cc6df"
      },
      "outputs": [
        {
          "output_type": "stream",
          "name": "stdout",
          "text": [
            "[1 2 4 5]\n",
            "(4,)\n",
            "-----------------\n",
            "(2, 4)\n",
            "[[1 2 3 4]\n",
            " [1 2 3 4]]\n",
            "<class 'numpy.ndarray'>\n",
            "-----------------\n",
            "[[0. 0. 0. 0.]\n",
            " [0. 0. 0. 0.]\n",
            " [0. 0. 0. 0.]\n",
            " [0. 0. 0. 0.]]\n",
            "------------------\n",
            "[[5 5 5 5]\n",
            " [5 5 5 5]\n",
            " [5 5 5 5]\n",
            " [5 5 5 5]]\n",
            "------------------\n",
            "[[1. 0. 0. 0.]\n",
            " [0. 1. 0. 0.]\n",
            " [0. 0. 1. 0.]\n",
            " [0. 0. 0. 1.]]\n",
            "------------------\n",
            "[[1. 1. 1. 1.]\n",
            " [1. 1. 1. 1.]\n",
            " [1. 1. 1. 1.]\n",
            " [1. 1. 1. 1.]]\n",
            "------------------\n"
          ]
        }
      ],
      "source": [
        "import numpy as np\n",
        "\n",
        "aux=np.array([1,2,4,5])\n",
        "print(aux)\n",
        "print(aux.shape)\n",
        "print('-----------------')\n",
        "\n",
        "aux=np.array([[1,2,3,4],[1,2,3,4]])\n",
        "print(aux.shape)\n",
        "print(aux)\n",
        "print(type(aux))\n",
        "print('-----------------')\n",
        "\n",
        "tmp=np.zeros((4,4))\n",
        "print(tmp)\n",
        "print('------------------')\n",
        "\n",
        "tmp=np.full((4,4),5)\n",
        "print(tmp)\n",
        "print('------------------')\n",
        "\n",
        "tmp=np.eye(4,4)\n",
        "print(tmp)\n",
        "print('------------------')\n",
        "\n",
        "tmp=np.ones((4,4))\n",
        "print(tmp)\n",
        "print('------------------')"
      ]
    },
    {
      "cell_type": "markdown",
      "source": [
        "**Matriz** **3x3**"
      ],
      "metadata": {
        "id": "6w-KBOmESke7"
      }
    },
    {
      "cell_type": "code",
      "source": [
        "tmp=np.random.random((4,4))\n",
        "print(tmp)\n",
        "print('------------------------------------------------')\n",
        "\n",
        "tmp=10*np.random.random((4,4))\n",
        "print(tmp)"
      ],
      "metadata": {
        "colab": {
          "base_uri": "https://localhost:8080/"
        },
        "id": "7jhxxziyQRvq",
        "outputId": "1a23f40c-b445-4dd6-af8a-09882cf79ad4"
      },
      "execution_count": null,
      "outputs": [
        {
          "output_type": "stream",
          "name": "stdout",
          "text": [
            "[[0.83963243 0.83452151 0.75856326 0.16233382]\n",
            " [0.22874657 0.57160354 0.0787817  0.43682834]\n",
            " [0.08036164 0.48661799 0.85042441 0.52715937]\n",
            " [0.15393588 0.84387395 0.38597585 0.32620923]]\n",
            "------------------------------------------------\n",
            "[[7.18497716 6.74996732 7.02304128 4.5380441 ]\n",
            " [3.00533412 3.69645958 4.28589187 3.22105599]\n",
            " [3.41157707 8.00830708 3.50044401 3.37442512]\n",
            " [0.30116508 1.09428786 6.30152756 3.36500116]]\n"
          ]
        }
      ]
    },
    {
      "cell_type": "code",
      "source": [
        "print(tmp[:2,:2])\n",
        "print('--------------------------')\n",
        "print(tmp[2:4,2:4])"
      ],
      "metadata": {
        "colab": {
          "base_uri": "https://localhost:8080/"
        },
        "id": "u6wvKQ5pS11S",
        "outputId": "ef750cff-1d4e-40ac-c764-af660b70cae5"
      },
      "execution_count": null,
      "outputs": [
        {
          "output_type": "stream",
          "name": "stdout",
          "text": [
            "[[8.03940197 2.95599936]\n",
            " [6.83848928 5.50687189]]\n",
            "--------------------------\n",
            "[[8.14444659]]\n"
          ]
        }
      ]
    },
    {
      "cell_type": "markdown",
      "source": [
        "**Fila 0 y Fila 1**"
      ],
      "metadata": {
        "id": "YuSFyRwPTIsg"
      }
    },
    {
      "cell_type": "code",
      "source": [
        "print(tmp[:2,1:3])"
      ],
      "metadata": {
        "colab": {
          "base_uri": "https://localhost:8080/"
        },
        "id": "GVKsldk-TQVC",
        "outputId": "0d71f994-00c9-418f-ae80-20fb09a590d4"
      },
      "execution_count": null,
      "outputs": [
        {
          "output_type": "stream",
          "name": "stdout",
          "text": [
            "[[7.20109249 8.95913144]\n",
            " [0.33299879 5.76461405]]\n"
          ]
        }
      ]
    },
    {
      "cell_type": "markdown",
      "source": [
        "**Valor del medio**"
      ],
      "metadata": {
        "id": "_oRAIAJoTZBy"
      }
    },
    {
      "cell_type": "code",
      "source": [
        "print(tmp[2,2])\n",
        "print('---------------')\n",
        "print(tmp[2:4,2:4])"
      ],
      "metadata": {
        "colab": {
          "base_uri": "https://localhost:8080/"
        },
        "id": "R_B14GacTbxR",
        "outputId": "b70b84c9-4d5d-4983-f247-23ff046c5bc8"
      },
      "execution_count": null,
      "outputs": [
        {
          "output_type": "stream",
          "name": "stdout",
          "text": [
            "1.0\n",
            "---------------\n",
            "[[1. 1.]\n",
            " [1. 1.]]\n"
          ]
        }
      ]
    },
    {
      "cell_type": "markdown",
      "source": [
        "**Filtrar datos**"
      ],
      "metadata": {
        "id": "gX-0n9muUeLa"
      }
    },
    {
      "cell_type": "code",
      "source": [
        "tmp=10*np.random.random((4,4))\n",
        "print(tmp)"
      ],
      "metadata": {
        "colab": {
          "base_uri": "https://localhost:8080/"
        },
        "id": "cFzh-wN2UXra",
        "outputId": "42826efd-5a38-45b8-bafd-e1a414f41955"
      },
      "execution_count": null,
      "outputs": [
        {
          "output_type": "stream",
          "name": "stdout",
          "text": [
            "[[6.36167921 1.62270072 4.32455403 3.29099991]\n",
            " [3.00738219 3.30396165 1.60973216 6.15046404]\n",
            " [2.65970041 8.82095086 0.71834159 3.98576834]\n",
            " [6.07341791 6.08965991 3.94465635 6.35936522]]\n"
          ]
        }
      ]
    },
    {
      "cell_type": "markdown",
      "source": [
        "**Filtrar datos mayor a 5**"
      ],
      "metadata": {
        "id": "14cJIYwnUzES"
      }
    },
    {
      "cell_type": "code",
      "source": [
        "mask=tmp>5\n",
        "print(mask)\n",
        "print('------------------')\n",
        "print(tmp[mask])\n",
        "print('------------------')"
      ],
      "metadata": {
        "colab": {
          "base_uri": "https://localhost:8080/"
        },
        "id": "f9jwZbv9UbYC",
        "outputId": "561cbf71-788f-4536-a589-0be6b9f98a13"
      },
      "execution_count": null,
      "outputs": [
        {
          "output_type": "stream",
          "name": "stdout",
          "text": [
            "[[ True  True  True False]\n",
            " [False False False False]\n",
            " [False  True False False]\n",
            " [False False  True False]]\n",
            "------------------\n",
            "[7.18497716 6.74996732 7.02304128 8.00830708 6.30152756]\n",
            "------------------\n"
          ]
        }
      ]
    },
    {
      "cell_type": "markdown",
      "source": [
        "**Valores que dejen pasar de 2 a 4**"
      ],
      "metadata": {
        "id": "QtdM5_94U38y"
      }
    },
    {
      "cell_type": "code",
      "source": [
        "mask = (tmp>=2) & (tmp<=4)\n",
        "print(tmp[mask])"
      ],
      "metadata": {
        "colab": {
          "base_uri": "https://localhost:8080/"
        },
        "id": "MpDHkCq1U9cK",
        "outputId": "f59a3984-ed24-4b8d-d392-cf8627282a17"
      },
      "execution_count": null,
      "outputs": [
        {
          "output_type": "stream",
          "name": "stdout",
          "text": [
            "[3.00533412 3.69645958 3.22105599 3.41157707 3.50044401 3.37442512\n",
            " 3.36500116]\n"
          ]
        }
      ]
    },
    {
      "cell_type": "markdown",
      "source": [
        "**Otro ejercico de Filtro de valores enteros y aleatorerios y filtrar los numeros pares**"
      ],
      "metadata": {
        "id": "wB0sWcVCWjDq"
      }
    },
    {
      "cell_type": "code",
      "source": [
        "import numpy as np\n",
        "integer_array =np.random.randint(0,10,(4,4))\n",
        "print(integer_array)"
      ],
      "metadata": {
        "colab": {
          "base_uri": "https://localhost:8080/"
        },
        "id": "q3hWbbIMWtf6",
        "outputId": "d0a943ed-b5a2-4a22-d016-1cba6aeb475f"
      },
      "execution_count": null,
      "outputs": [
        {
          "output_type": "stream",
          "name": "stdout",
          "text": [
            "[[2 9 6 6]\n",
            " [0 7 1 6]\n",
            " [1 5 9 0]\n",
            " [5 9 4 7]]\n"
          ]
        }
      ]
    },
    {
      "cell_type": "code",
      "source": [
        "tmp = np.random.randint(0, 11, size=(4, 4))\n",
        "print(tmp)\n",
        "print('------------------')\n",
        "mask = np.mod(tmp, 2) == 0\n",
        "print(tmp[mask])"
      ],
      "metadata": {
        "colab": {
          "base_uri": "https://localhost:8080/"
        },
        "id": "ggiQ3OQHBA8L",
        "outputId": "77cbbf1a-8cf8-40f4-d5e2-ce6053e94002"
      },
      "execution_count": null,
      "outputs": [
        {
          "output_type": "stream",
          "name": "stdout",
          "text": [
            "[[ 5  5  2  0]\n",
            " [ 6  4  1  3]\n",
            " [ 3  2  6  9]\n",
            " [ 2 10  0  8]]\n",
            "------------------\n",
            "[ 2  0  6  4  2  6  2 10  0  8]\n"
          ]
        }
      ]
    }
  ]
}