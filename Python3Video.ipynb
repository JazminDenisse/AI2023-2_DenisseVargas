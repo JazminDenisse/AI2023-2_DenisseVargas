{
  "nbformat": 4,
  "nbformat_minor": 0,
  "metadata": {
    "colab": {
      "provenance": [],
      "authorship_tag": "ABX9TyPRkBq3shLCGqSks7FycycB",
      "include_colab_link": true
    },
    "kernelspec": {
      "name": "python3",
      "display_name": "Python 3"
    },
    "language_info": {
      "name": "python"
    }
  },
  "cells": [
    {
      "cell_type": "markdown",
      "metadata": {
        "id": "view-in-github",
        "colab_type": "text"
      },
      "source": [
        "<a href=\"https://colab.research.google.com/github/JazminDenisse/AI2023-2_DenisseVargas/blob/main/Python3Video.ipynb\" target=\"_parent\"><img src=\"https://colab.research.google.com/assets/colab-badge.svg\" alt=\"Open In Colab\"/></a>"
      ]
    },
    {
      "cell_type": "code",
      "execution_count": 1,
      "metadata": {
        "colab": {
          "base_uri": "https://localhost:8080/"
        },
        "id": "ez7TEu7CD2wT",
        "outputId": "75d10536-c6ee-4c8b-b56d-8434837d0d1b"
      },
      "outputs": [
        {
          "output_type": "stream",
          "name": "stdout",
          "text": [
            "Python 3.10.12\n"
          ]
        }
      ],
      "source": [
        "!python --version"
      ]
    },
    {
      "cell_type": "markdown",
      "source": [
        "**Basic data types**"
      ],
      "metadata": {
        "id": "jOvm1UzCEwyd"
      }
    },
    {
      "cell_type": "code",
      "source": [
        "variable1=10\n",
        "variable2=2.2\n",
        "variable3='Parangaricutirimicuaro'\n",
        "print(type(variable1))\n",
        "print(type(variable2))\n",
        "print(type(variable3))\n",
        "\n",
        "print(variable1+variable2)\n",
        "print(variable1-variable2)\n",
        "print(variable1*variable2)\n",
        "print(variable1/variable2)\n",
        "\n",
        "v1=True\n",
        "v2=False\n",
        "\n",
        "# print(v1 and V2)\n",
        "# print(v1 or v2)\n",
        "# print(not v1 and v2)\n",
        "\n",
        "# print(len(variable3))\n",
        "# print(variable3.upper())\n",
        "# print(variable3.capitalize())"
      ],
      "metadata": {
        "colab": {
          "base_uri": "https://localhost:8080/"
        },
        "id": "8S5FBNBEE4cn",
        "outputId": "3f722509-a2a6-4d02-d1f7-e3151970bf6f"
      },
      "execution_count": 2,
      "outputs": [
        {
          "output_type": "stream",
          "name": "stdout",
          "text": [
            "<class 'int'>\n",
            "<class 'float'>\n",
            "<class 'str'>\n",
            "12.2\n",
            "7.8\n",
            "22.0\n",
            "4.545454545454545\n"
          ]
        }
      ]
    },
    {
      "cell_type": "markdown",
      "source": [
        "**Containers**"
      ],
      "metadata": {
        "id": "Klm43xnUGj-v"
      }
    },
    {
      "cell_type": "markdown",
      "source": [
        "**1. Lists**"
      ],
      "metadata": {
        "id": "8JbEJCPbGm96"
      }
    },
    {
      "cell_type": "code",
      "source": [
        "algunaLista=list()\n",
        "algunaLista=['borrador','cuaderno','goma','lápiz','mochila','esferos','lapices de colores',True]\n",
        "print(algunaLista[2])\n",
        "print(algunaLista[7])\n",
        "print(len(algunaLista))\n",
        "print('-----------------')\n",
        "\n",
        "# for i in algunaLista:\n",
        "#   print(i)\n",
        "# print('-------------')\n",
        "\n",
        "# algunaLista.append('regla')\n",
        "# for i in algunaLista:\n",
        "#   print(i)\n",
        "# algunaLista.pop(2)\n",
        "# print('-----------')\n",
        "\n",
        "# for i in algunaLista.\n",
        "#   print(i)\n",
        "# print('-----------')\n",
        "\n",
        "# # Slicing\n",
        "# print(algunaLista[-1])\n",
        "\n",
        "print(algunaLista[0:3])"
      ],
      "metadata": {
        "colab": {
          "base_uri": "https://localhost:8080/"
        },
        "id": "XGagBTAfGrAo",
        "outputId": "8c47c87c-c792-4862-d447-cd8ea7f75b5f"
      },
      "execution_count": 6,
      "outputs": [
        {
          "output_type": "stream",
          "name": "stdout",
          "text": [
            "goma\n",
            "True\n",
            "8\n",
            "-----------------\n",
            "['borrador', 'cuaderno', 'goma']\n"
          ]
        }
      ]
    },
    {
      "cell_type": "markdown",
      "source": [
        "**2. Dictionaries**"
      ],
      "metadata": {
        "id": "H_SUf5KhJlfl"
      }
    },
    {
      "cell_type": "code",
      "source": [
        "d={'name':'Juan','age':30,'city':'El Carmen'}\n",
        "# print(d['name])\n",
        "# print(d['city])\n",
        "\n",
        "#  d['uni]='ULEAM'\n",
        "# print(d['uni'])\n",
        "\n",
        "for key in d:\n",
        "  print(d[key])\n",
        ""
      ],
      "metadata": {
        "colab": {
          "base_uri": "https://localhost:8080/"
        },
        "id": "CequP6_SJo_Y",
        "outputId": "4bf01b07-5914-4ff4-95e2-af8429f16edf"
      },
      "execution_count": 7,
      "outputs": [
        {
          "output_type": "stream",
          "name": "stdout",
          "text": [
            "Juan\n",
            "30\n",
            "El Carmen\n"
          ]
        }
      ]
    },
    {
      "cell_type": "markdown",
      "source": [
        "**Parte 2**"
      ],
      "metadata": {
        "id": "K-bBl96TKbs-"
      }
    },
    {
      "cell_type": "code",
      "source": [],
      "metadata": {
        "id": "yJI6CmZNKg0R"
      },
      "execution_count": null,
      "outputs": []
    }
  ]
}